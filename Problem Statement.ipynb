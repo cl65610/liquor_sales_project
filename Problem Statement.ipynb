{
 "cells": [
  {
   "cell_type": "markdown",
   "metadata": {},
   "source": [
    "### Problem Statement"
   ]
  },
  {
   "cell_type": "markdown",
   "metadata": {},
   "source": [
    "\n",
    "The decision to levy a new tax is undoubtedly a serious one. \n",
    "\n",
    "In order to most effectively decide whether or not to levy a new tax, and if so, at what level, you must first understand how this tax would affect your stakeholders. In order to give you as much information as possible during your decision making, we will build a model that will estimate how much taxable revenue the state can expect from liquor sales during 2016.\n",
    "\n",
    "This model will be based on the robust records provided for all of 2015 and the first quarter of 2016. In order to make the most accurate predictions possible, we will focus on stores that were open during the entirety of 2015. The data presented is by and large clean. Little work needs to be done in order to begin exploring and analyzing the data. Upon completion of modeling, you will receive an Executive Summary that explains key findings from the analysis as well as the results of the modelling.\n"
   ]
  },
  {
   "cell_type": "markdown",
   "metadata": {},
   "source": [
    "#### Initial analysis"
   ]
  },
  {
   "cell_type": "markdown",
   "metadata": {},
   "source": [
    "This data presents a unique challenge. Both individual purchases and institutional ones are recorded in the same way. This quirk could be accounted for in future analyses. For the present work, we will focus on an overall model that can be refined in future iterations."
   ]
  },
  {
   "cell_type": "code",
   "execution_count": null,
   "metadata": {
    "collapsed": true
   },
   "outputs": [],
   "source": []
  }
 ],
 "metadata": {
  "kernelspec": {
   "display_name": "Python 2",
   "language": "python",
   "name": "python2"
  },
  "language_info": {
   "codemirror_mode": {
    "name": "ipython",
    "version": 2
   },
   "file_extension": ".py",
   "mimetype": "text/x-python",
   "name": "python",
   "nbconvert_exporter": "python",
   "pygments_lexer": "ipython2",
   "version": "2.7.11"
  }
 },
 "nbformat": 4,
 "nbformat_minor": 0
}
