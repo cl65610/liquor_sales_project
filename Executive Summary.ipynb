{
 "cells": [
  {
   "cell_type": "markdown",
   "metadata": {},
   "source": [
    "### Executive Summary"
   ]
  },
  {
   "cell_type": "markdown",
   "metadata": {},
   "source": [
    "In response to the request from the state legislature, we have completed analysis of the data and predicted what new taxable revenue the state can expect for the remainder of this year. In order to perform this analysis, the provided data was cleaned and exploratory analysis was performed. This analysis shows some of the trends that are correlated with liquor sales."
   ]
  },
  {
   "cell_type": "markdown",
   "metadata": {},
   "source": [
    "As can be seen in Jupyter Notebook. The average liquor sale in Iowa has an impressive tail. While most of the data is concentrated on the low end of this spectrum (The average purchase is just over $120.00.), several sales ranked in the thousands. The unique Iowa liquor sales seem to require that both private individuals and restaurants and bars buy their liquor from the same place. This facet of Iowan law will factor into our final recommendations."
   ]
  },
  {
   "cell_type": "markdown",
   "metadata": {},
   "source": [
    "#### Grouping by Stores"
   ]
  },
  {
   "cell_type": "markdown",
   "metadata": {},
   "source": [
    "The majority of our analyses came after grouping sales by stores. Not only did this make our work easier by reducing the number of rows from 2.7 million to just over 1,300, it also gave a nice overview of how well each store performed compared to the average. This grouping will be useful if future analyses requires that stores be broken down by the demographics they serve. "
   ]
  },
  {
   "cell_type": "markdown",
   "metadata": {},
   "source": [
    "#### Key Recommendations"
   ]
  },
  {
   "cell_type": "markdown",
   "metadata": {},
   "source": [
    "After running a linear regression on the sales data, we feel confident with the recommendation that liquor sales in Iowa will increase by approximately 4% in 2016. This represents an increase of taxable revenue somewhere between 10 and 12 million dollars. \n",
    "\n"
   ]
  },
  {
   "cell_type": "code",
   "execution_count": null,
   "metadata": {
    "collapsed": true
   },
   "outputs": [],
   "source": []
  }
 ],
 "metadata": {
  "kernelspec": {
   "display_name": "Python 2",
   "language": "python",
   "name": "python2"
  },
  "language_info": {
   "codemirror_mode": {
    "name": "ipython",
    "version": 2
   },
   "file_extension": ".py",
   "mimetype": "text/x-python",
   "name": "python",
   "nbconvert_exporter": "python",
   "pygments_lexer": "ipython2",
   "version": "2.7.11"
  }
 },
 "nbformat": 4,
 "nbformat_minor": 0
}
